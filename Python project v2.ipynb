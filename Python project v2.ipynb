{
 "cells": [
  {
   "cell_type": "markdown",
   "metadata": {},
   "source": [
    "Import necessary libraries"
   ]
  },
  {
   "cell_type": "code",
   "execution_count": null,
   "metadata": {},
   "outputs": [],
   "source": [
    "import numpy as np\n",
    "import pandas as pd\n",
    "import matplotlib.pyplot as plt\n",
    "import plotly.graph_objs as go\n",
    "from matplotlib.dates import date2num\n",
    "from matplotlib import dates as mdates\n",
    "from matplotlib.dates import MonthLocator, DateFormatter\n",
    "import plotly.express as px\n",
    "from plotly.subplots import make_subplots"
   ]
  },
  {
   "cell_type": "markdown",
   "metadata": {},
   "source": [
    "import data"
   ]
  },
  {
   "cell_type": "code",
   "execution_count": null,
   "metadata": {},
   "outputs": [],
   "source": [
    "ru_personnel_loss = pd.read_csv('/Users/andriussvilpauskas/Desktop/Turing College/Python project data/russia_losses_personnel.csv')\n",
    "ru_equipment_loss = pd.read_csv('/Users/andriussvilpauskas/Desktop/Turing College/Python project data/russia_losses_equipment.csv')\n",
    "ru_losses_type = pd.read_csv('/Users/andriussvilpauskas/Desktop/Turing College/Python project data/losses_russia.csv')"
   ]
  },
  {
   "cell_type": "markdown",
   "metadata": {},
   "source": [
    "summary statistics"
   ]
  },
  {
   "cell_type": "code",
   "execution_count": null,
   "metadata": {},
   "outputs": [],
   "source": [
    "print(ru_personnel_loss.describe())\n",
    "print(ru_equipment_loss.describe())\n",
    "print(ru_losses_type.describe())"
   ]
  },
  {
   "cell_type": "markdown",
   "metadata": {},
   "source": [
    "calculate daily changes for personnel and equipment losses"
   ]
  },
  {
   "cell_type": "code",
   "execution_count": null,
   "metadata": {},
   "outputs": [],
   "source": [
    "ru_personnel_loss['daily_change'] = ru_personnel_loss['personnel'].diff()\n",
    "\n",
    "ru_equipment_loss['date'] = pd.to_datetime(ru_equipment_loss['date'])\n",
    "ru_equipment_loss.set_index('date', inplace=True)\n",
    "unit_type_columns = [col for col in ru_equipment_loss.columns if col not in ['day', 'greatest losses direction', 'submarines']]\n",
    "ru_equipment_loss[unit_type_columns] = ru_equipment_loss[unit_type_columns].astype(float)\n",
    "ru_equipment_loss['daily_total'] = ru_equipment_loss[unit_type_columns].sum(axis=1)\n",
    "ru_equipment_loss['daily_change'] = ru_equipment_loss['daily_total'].diff()"
   ]
  },
  {
   "cell_type": "markdown",
   "metadata": {},
   "source": [
    "Plotting equipment losses using Plotly pie chart"
   ]
  },
  {
   "cell_type": "code",
   "execution_count": null,
   "metadata": {},
   "outputs": [],
   "source": [
    "fig = go.Figure(data=[go.Pie(labels=ru_losses_type['equipment'], values=ru_losses_type['losses_total'], textinfo='label',\n",
    "                             insidetextorientation='radial'\n",
    ")])\n",
    "fig.show()"
   ]
  },
  {
   "cell_type": "markdown",
   "metadata": {},
   "source": [
    "Function to create subplots with common x-axis for personnel and equipment losses over time"
   ]
  },
  {
   "cell_type": "code",
   "execution_count": null,
   "metadata": {},
   "outputs": [],
   "source": [
    "def plot_losses_over_time(ax, x, y, color, ylabel, title, marker_dates):\n",
    "    ax.plot_date(pd.to_datetime(x), y, marker='', linestyle='-', color=color)\n",
    "    for date, line_color in marker_dates.items():\n",
    "        ax.axvline(x=date2num(pd.to_datetime(date)), color=line_color, linestyle='--', linewidth=2,label=legend_labels.pop(0) if legend_labels else None)\n",
    "    ax.set_ylabel(ylabel)\n",
    "    ax.set_title(title)\n",
    "    ax.legend()"
   ]
  },
  {
   "cell_type": "markdown",
   "metadata": {},
   "source": [
    "Function to create subplots for daily changes in personnel and equipment losses"
   ]
  },
  {
   "cell_type": "code",
   "execution_count": null,
   "metadata": {},
   "outputs": [],
   "source": [
    "def plot_daily_changes(ax, x, y, color, ylabel, title, marker_dates):\n",
    "    ax.plot_date(pd.to_datetime(x), y, marker='', linestyle='-', color=color)\n",
    "    for date, line_color in marker_dates.items():\n",
    "        ax.axvline(x=date2num(pd.to_datetime(date)), color=line_color, linestyle='--', linewidth=2,label=legend_labels.pop(0) if legend_labels else None)\n",
    "    ax.set_xlabel('Date')\n",
    "    ax.set_ylabel(ylabel)\n",
    "    ax.set_title(title)\n",
    "    ax.legend()"
   ]
  },
  {
   "cell_type": "markdown",
   "metadata": {},
   "source": [
    "Plotting personnel and equipment losses over time"
   ]
  },
  {
   "cell_type": "code",
   "execution_count": null,
   "metadata": {},
   "outputs": [],
   "source": [
    "fig, (ax1, ax2) = plt.subplots(2, 1, figsize=(10, 12), sharex=True)\n",
    "marker_dates = {'2022-04-07': 'blue', '2022-08-29': 'green', '2022-11-12': 'yellow', '2023-06-08': 'purple'}\n",
    "legend_labels = ['End of initial invasion', '2022 counteroffensive', 'second stalemate', '2023 counteroffensives']\n",
    "\n",
    "plot_losses_over_time(ax1, ru_personnel_loss['date'], ru_personnel_loss['personnel'], 'r',\n",
    "                       'Number of Soldiers Lost', 'Soldiers Lost Over Time', marker_dates)\n",
    "\n",
    "plot_losses_over_time(ax2, ru_equipment_loss.index, ru_equipment_loss['daily_total'], 'black',\n",
    "                       'Number of Equipment Lost', 'Equipment Lost Over Time', marker_dates)\n",
    "\n",
    "plt.tight_layout()\n",
    "plt.show()\n"
   ]
  },
  {
   "cell_type": "markdown",
   "metadata": {},
   "source": [
    "Plotting daily changes in personnel and equipment losses"
   ]
  },
  {
   "cell_type": "code",
   "execution_count": null,
   "metadata": {},
   "outputs": [],
   "source": [
    "fig, (ax1, ax2) = plt.subplots(2, 1, figsize=(10, 12), sharex=True)\n",
    "\n",
    "plot_daily_changes(ax1, ru_personnel_loss['date'], ru_personnel_loss['daily_change'], 'r',\n",
    "                   'Number of Soldiers Lost', 'Soldiers Lost Over Time', marker_dates)\n",
    "\n",
    "plot_daily_changes(ax2, ru_equipment_loss.index, ru_equipment_loss['daily_change'], 'black',\n",
    "                   'Number of Equipment Lost', 'Equipment Lost Over Time', marker_dates)\n",
    "\n",
    "plt.tight_layout()\n",
    "plt.show()"
   ]
  }
 ],
 "metadata": {
  "kernelspec": {
   "display_name": "Python 3",
   "language": "python",
   "name": "python3"
  },
  "language_info": {
   "codemirror_mode": {
    "name": "ipython",
    "version": 3
   },
   "file_extension": ".py",
   "mimetype": "text/x-python",
   "name": "python",
   "nbconvert_exporter": "python",
   "pygments_lexer": "ipython3",
   "version": "3.12.0"
  },
  "orig_nbformat": 4
 },
 "nbformat": 4,
 "nbformat_minor": 2
}
